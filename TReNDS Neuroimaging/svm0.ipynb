{
 "cells": [
  {
   "cell_type": "markdown",
   "metadata": {},
   "source": [
    "## Install Rapids for 5x Faster SVM on GPU"
   ]
  },
  {
   "cell_type": "code",
   "execution_count": 1,
   "metadata": {
    "_cell_guid": "b1076dfc-b9ad-4769-8c92-a6c4dae69d19",
    "_uuid": "8f2839f25d086af736a60e9eeb907d3b93b6e0e5"
   },
   "outputs": [],
   "source": [
    "import sys\n",
    "!cp ../input/rapids/rapids.0.13.0 /opt/conda/envs/rapids.tar.gz\n",
    "!cd /opt/conda/envs/ && tar -xzvf rapids.tar.gz > /dev/null\n",
    "sys.path = [\"/opt/conda/envs/rapids/lib/python3.6/site-packages\"] + sys.path\n",
    "sys.path = [\"/opt/conda/envs/rapids/lib/python3.6\"] + sys.path\n",
    "sys.path = [\"/opt/conda/envs/rapids/lib\"] + sys.path\n",
    "!cp /opt/conda/envs/rapids/lib/libxgboost.so /opt/conda/lib/"
   ]
  },
  {
   "cell_type": "markdown",
   "metadata": {},
   "source": [
    "## sklearn is only imported for splitting the data. The rest is up to cuML.\n",
    "\n",
    "![](https://i.imgur.com/nrWjrn5.jpg)"
   ]
  },
  {
   "cell_type": "code",
   "execution_count": 2,
   "metadata": {
    "_cell_guid": "79c7e3d0-c299-4dcb-8224-4455121ee9b0",
    "_uuid": "d629ff2d2480ee46fbb7e2d37f6b5fab8052498a"
   },
   "outputs": [],
   "source": [
    "import numpy as np\n",
    "# import pandas as pd\n",
    "import cudf\n",
    "from cuml import SVR\n",
    "from sklearn.model_selection import KFold\n",
    "\n",
    "\n",
    "def metric(y_true, y_pred):\n",
    "    return np.mean(np.sum(np.abs(y_true - y_pred), axis=0)/np.sum(y_true, axis=0))"
   ]
  },
  {
   "cell_type": "code",
   "execution_count": 3,
   "metadata": {},
   "outputs": [
    {
     "name": "stderr",
     "output_type": "stream",
     "text": [
      "/opt/conda/envs/rapids/lib/python3.6/site-packages/fsspec/implementations/local.py:33: FutureWarning: The default value of auto_mkdir=True has been deprecated and will be changed to auto_mkdir=False by default in a future release.\n",
      "  FutureWarning,\n"
     ]
    },
    {
     "data": {
      "text/plain": [
       "((5877, 1411), (5877, 1411))"
      ]
     },
     "execution_count": 3,
     "metadata": {},
     "output_type": "execute_result"
    }
   ],
   "source": [
    "fnc_df = cudf.read_csv(\"../input/trends-assessment-prediction/fnc.csv\")\n",
    "loading_df = cudf.read_csv(\"../input/trends-assessment-prediction/loading.csv\")\n",
    "\n",
    "fnc_features, loading_features = list(fnc_df.columns[1:]), list(loading_df.columns[1:])\n",
    "df = fnc_df.merge(loading_df, on=\"Id\")\n",
    "\n",
    "\n",
    "labels_df = cudf.read_csv(\"../input/trends-assessment-prediction/train_scores.csv\")\n",
    "labels_df[\"is_train\"] = True\n",
    "\n",
    "df = df.merge(labels_df, on=\"Id\", how=\"left\")\n",
    "\n",
    "test_df = df[df[\"is_train\"] != True].copy()\n",
    "df = df[df[\"is_train\"] == True].copy()\n",
    "\n",
    "df.shape, test_df.shape"
   ]
  },
  {
   "cell_type": "code",
   "execution_count": 4,
   "metadata": {},
   "outputs": [],
   "source": [
    "# Giving less importance to FNC features since they are easier to overfit due to high dimensionality.\n",
    "FNC_SCALE = 1/500\n",
    "\n",
    "df[fnc_features] *= FNC_SCALE\n",
    "test_df[fnc_features] *= FNC_SCALE"
   ]
  },
  {
   "cell_type": "code",
   "execution_count": 5,
   "metadata": {},
   "outputs": [
    {
     "name": "stdout",
     "output_type": "stream",
     "text": [
      "age 0.1446\n",
      "\n",
      "domain1_var1 0.1512\n",
      "\n",
      "domain1_var2 0.1513\n",
      "\n",
      "domain2_var1 0.1819\n",
      "\n",
      "domain2_var2 0.1763\n",
      "\n",
      "Overal score: 0.159\n",
      "CPU times: user 9min 52s, sys: 11 s, total: 10min 3s\n",
      "Wall time: 10min 4s\n"
     ]
    }
   ],
   "source": [
    "%%time\n",
    "\n",
    "NUM_FOLDS = 7\n",
    "kf = KFold(n_splits=NUM_FOLDS, shuffle=True, random_state=0)\n",
    "\n",
    "\n",
    "features = loading_features + fnc_features\n",
    "\n",
    "overal_score = 0\n",
    "for target, c, w in [(\"age\", 100, 0.3), (\"domain1_var1\", 10, 0.175), (\"domain1_var2\", 10, 0.175), (\"domain2_var1\", 10, 0.175), (\"domain2_var2\", 10, 0.175)]:    \n",
    "    y_oof = np.zeros(df.shape[0])\n",
    "    y_test = np.zeros((test_df.shape[0], NUM_FOLDS))\n",
    "    \n",
    "    for f, (train_ind, val_ind) in enumerate(kf.split(df, df)):\n",
    "        train_df, val_df = df.iloc[train_ind], df.iloc[val_ind]\n",
    "        train_df = train_df[train_df[target].notnull()]\n",
    "\n",
    "        model = SVR(C=c, cache_size=3000.0)\n",
    "        model.fit(train_df[features], train_df[target])\n",
    "\n",
    "        y_oof[val_ind] = model.predict(val_df[features])\n",
    "        y_test[:, f] = model.predict(test_df[features])\n",
    "        \n",
    "    df[\"pred_{}\".format(target)] = y_oof\n",
    "    test_df[target] = y_test.mean(axis=1)\n",
    "    \n",
    "    score = metric(df[df[target].notnull()][target].values, df[df[target].notnull()][\"pred_{}\".format(target)].values)\n",
    "    overal_score += w*score\n",
    "    print(target, np.round(score, 4))\n",
    "    print()\n",
    "    \n",
    "print(\"Overal score:\", np.round(overal_score, 4))"
   ]
  },
  {
   "cell_type": "code",
   "execution_count": 6,
   "metadata": {},
   "outputs": [
    {
     "data": {
      "text/html": [
       "<div>\n",
       "<style scoped>\n",
       "    .dataframe tbody tr th:only-of-type {\n",
       "        vertical-align: middle;\n",
       "    }\n",
       "\n",
       "    .dataframe tbody tr th {\n",
       "        vertical-align: top;\n",
       "    }\n",
       "\n",
       "    .dataframe thead th {\n",
       "        text-align: right;\n",
       "    }\n",
       "</style>\n",
       "<table border=\"1\" class=\"dataframe\">\n",
       "  <thead>\n",
       "    <tr style=\"text-align: right;\">\n",
       "      <th></th>\n",
       "      <th>Id</th>\n",
       "      <th>Predicted</th>\n",
       "    </tr>\n",
       "  </thead>\n",
       "  <tbody>\n",
       "    <tr>\n",
       "      <th>1098</th>\n",
       "      <td>10003_age</td>\n",
       "      <td>52.572525</td>\n",
       "    </tr>\n",
       "    <tr>\n",
       "      <th>6975</th>\n",
       "      <td>10003_domain1_var1</td>\n",
       "      <td>50.364715</td>\n",
       "    </tr>\n",
       "    <tr>\n",
       "      <th>12852</th>\n",
       "      <td>10003_domain1_var2</td>\n",
       "      <td>61.507707</td>\n",
       "    </tr>\n",
       "    <tr>\n",
       "      <th>18729</th>\n",
       "      <td>10003_domain2_var1</td>\n",
       "      <td>48.357282</td>\n",
       "    </tr>\n",
       "    <tr>\n",
       "      <th>24606</th>\n",
       "      <td>10003_domain2_var2</td>\n",
       "      <td>57.971958</td>\n",
       "    </tr>\n",
       "    <tr>\n",
       "      <th>1105</th>\n",
       "      <td>10006_age</td>\n",
       "      <td>65.606673</td>\n",
       "    </tr>\n",
       "    <tr>\n",
       "      <th>6982</th>\n",
       "      <td>10006_domain1_var1</td>\n",
       "      <td>54.679966</td>\n",
       "    </tr>\n",
       "    <tr>\n",
       "      <th>12859</th>\n",
       "      <td>10006_domain1_var2</td>\n",
       "      <td>59.846837</td>\n",
       "    </tr>\n",
       "    <tr>\n",
       "      <th>18736</th>\n",
       "      <td>10006_domain2_var1</td>\n",
       "      <td>50.309668</td>\n",
       "    </tr>\n",
       "    <tr>\n",
       "      <th>24613</th>\n",
       "      <td>10006_domain2_var2</td>\n",
       "      <td>51.934444</td>\n",
       "    </tr>\n",
       "  </tbody>\n",
       "</table>\n",
       "</div>"
      ],
      "text/plain": [
       "                       Id  Predicted\n",
       "1098            10003_age  52.572525\n",
       "6975   10003_domain1_var1  50.364715\n",
       "12852  10003_domain1_var2  61.507707\n",
       "18729  10003_domain2_var1  48.357282\n",
       "24606  10003_domain2_var2  57.971958\n",
       "1105            10006_age  65.606673\n",
       "6982   10006_domain1_var1  54.679966\n",
       "12859  10006_domain1_var2  59.846837\n",
       "18736  10006_domain2_var1  50.309668\n",
       "24613  10006_domain2_var2  51.934444"
      ]
     },
     "execution_count": 6,
     "metadata": {},
     "output_type": "execute_result"
    }
   ],
   "source": [
    "sub_df = cudf.melt(test_df[[\"Id\", \"age\", \"domain1_var1\", \"domain1_var2\", \"domain2_var1\", \"domain2_var2\"]], id_vars=[\"Id\"], value_name=\"Predicted\")\n",
    "sub_df[\"Id\"] = sub_df[\"Id\"].astype(\"str\") + \"_\" +  sub_df[\"variable\"].astype(\"str\")\n",
    "\n",
    "sub_df = sub_df.drop(\"variable\", axis=1).sort_values(\"Id\")\n",
    "assert sub_df.shape[0] == test_df.shape[0]*5\n",
    "sub_df.head(10)"
   ]
  },
  {
   "cell_type": "code",
   "execution_count": 7,
   "metadata": {},
   "outputs": [],
   "source": [
    "sub_df.to_csv(\"submission.csv\", index=False)"
   ]
  },
  {
   "cell_type": "code",
   "execution_count": null,
   "metadata": {},
   "outputs": [],
   "source": []
  }
 ],
 "metadata": {
  "kernelspec": {
   "display_name": "Python 3",
   "language": "python",
   "name": "python3"
  },
  "language_info": {
   "codemirror_mode": {
    "name": "ipython",
    "version": 3
   },
   "file_extension": ".py",
   "mimetype": "text/x-python",
   "name": "python",
   "nbconvert_exporter": "python",
   "pygments_lexer": "ipython3",
   "version": "3.6.6"
  }
 },
 "nbformat": 4,
 "nbformat_minor": 4
}
